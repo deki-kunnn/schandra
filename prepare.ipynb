{
  "cells": [
    {
      "cell_type": "code",
      "execution_count": 6,
      "metadata": {
        "id": "pSKH-y8hxT4z"
      },
      "outputs": [],
      "source": [
        "# Import library yang dibutuhkan\n",
        "import pandas as pd\n",
        "import numpy as np\n",
        "from sklearn.model_selection import train_test_split\n",
        "from sklearn.preprocessing import StandardScaler\n",
        "from sklearn.linear_model import LinearRegression\n",
        "import pickle"
      ]
    },
    {
      "cell_type": "code",
      "execution_count": 7,
      "metadata": {
        "colab": {
          "base_uri": "https://localhost:8080/"
        },
        "id": "QLewNHYbx4bZ",
        "outputId": "5800fb67-a6d1-4a6a-c3b8-f3220e59466a"
      },
      "outputs": [
        {
          "name": "stdout",
          "output_type": "stream",
          "text": [
            "<class 'pandas.core.frame.DataFrame'>\n",
            "RangeIndex: 348 entries, 0 to 347\n",
            "Data columns (total 6 columns):\n",
            " #   Column    Non-Null Count  Dtype  \n",
            "---  ------    --------------  -----  \n",
            " 0   age       348 non-null    int64  \n",
            " 1   sex       348 non-null    int64  \n",
            " 2   bmi       348 non-null    float64\n",
            " 3   children  348 non-null    int64  \n",
            " 4   smoker    348 non-null    int64  \n",
            " 5   charges   348 non-null    float64\n",
            "dtypes: float64(2), int64(4)\n",
            "memory usage: 16.4 KB\n",
            "None\n",
            "\n",
            "Deskripsi Dataset:\n",
            "              age         sex         bmi    children      smoker  \\\n",
            "count  348.000000  348.000000  348.000000  348.000000  348.000000   \n",
            "mean    39.591954    0.508621   30.676552    1.091954    0.232759   \n",
            "std     14.417015    0.500646    5.625850    1.192021    0.423198   \n",
            "min     18.000000    0.000000   15.960000    0.000000    0.000000   \n",
            "25%     27.000000    0.000000   26.782500    0.000000    0.000000   \n",
            "50%     40.000000    1.000000   30.300000    1.000000    0.000000   \n",
            "75%     53.000000    1.000000   34.777500    2.000000    0.000000   \n",
            "max     64.000000    1.000000   49.060000    5.000000    1.000000   \n",
            "\n",
            "            charges  \n",
            "count    348.000000  \n",
            "mean   14016.426293  \n",
            "std    12638.887852  \n",
            "min     1137.011000  \n",
            "25%     4888.466125  \n",
            "50%     9719.305250  \n",
            "75%    19006.316150  \n",
            "max    51194.559140  \n"
          ]
        }
      ],
      "source": [
        "# Baca dataset\n",
        "df = pd.read_csv('insurance1.csv')\n",
        "\n",
        "# Tampilkan informasi dataset\n",
        "print(df.info())\n",
        "print(\"\\nDeskripsi Dataset:\")\n",
        "print(df.describe())"
      ]
    },
    {
      "cell_type": "code",
      "execution_count": 8,
      "metadata": {
        "colab": {
          "base_uri": "https://localhost:8080/"
        },
        "id": "2EC_B8Icy34-",
        "outputId": "a8017d11-8e42-4c86-8504-328039bd322d"
      },
      "outputs": [
        {
          "name": "stdout",
          "output_type": "stream",
          "text": [
            "Bentuk fitur (X): (348, 5)\n",
            "Bentuk target (y): (348,)\n"
          ]
        }
      ],
      "source": [
        "# Pisahkan fitur dan target\n",
        "X = df.drop('charges', axis=1)\n",
        "y = df['charges']\n",
        "\n",
        "# Tampilkan bentuk data\n",
        "print(\"Bentuk fitur (X):\", X.shape)\n",
        "print(\"Bentuk target (y):\", y.shape)"
      ]
    },
    {
      "cell_type": "code",
      "execution_count": 9,
      "metadata": {
        "colab": {
          "base_uri": "https://localhost:8080/"
        },
        "id": "B82GR2VQy6wt",
        "outputId": "d8e5690f-4730-492d-feab-5f088a8af46a"
      },
      "outputs": [
        {
          "name": "stdout",
          "output_type": "stream",
          "text": [
            "Bentuk data training: (278, 5)\n",
            "Bentuk data testing: (70, 5)\n"
          ]
        }
      ],
      "source": [
        "# Split data training dan testing\n",
        "X_train, X_test, y_train, y_test = train_test_split(X, y, test_size=0.2, random_state=42)\n",
        "\n",
        "print(\"Bentuk data training:\", X_train.shape)\n",
        "print(\"Bentuk data testing:\", X_test.shape)"
      ]
    },
    {
      "cell_type": "code",
      "execution_count": 10,
      "metadata": {
        "colab": {
          "base_uri": "https://localhost:8080/"
        },
        "id": "s9JG3RG6y9Qu",
        "outputId": "5ba82db7-f37f-4540-e7a9-524c46b9b51e"
      },
      "outputs": [
        {
          "name": "stdout",
          "output_type": "stream",
          "text": [
            "Data setelah scaling:\n",
            "Mean training: [-8.94568193e-17  0.00000000e+00  5.62300007e-16 -5.75079552e-17\n",
            " -1.43769888e-17]\n",
            "Std training: [1. 1. 1. 1. 1.]\n"
          ]
        }
      ],
      "source": [
        "# Scaling fitur\n",
        "scaler = StandardScaler()\n",
        "X_train_scaled = scaler.fit_transform(X_train)\n",
        "X_test_scaled = scaler.transform(X_test)\n",
        "\n",
        "print(\"Data setelah scaling:\")\n",
        "print(\"Mean training:\", X_train_scaled.mean(axis=0))\n",
        "print(\"Std training:\", X_train_scaled.std(axis=0))"
      ]
    },
    {
      "cell_type": "code",
      "execution_count": 11,
      "metadata": {
        "colab": {
          "base_uri": "https://localhost:8080/"
        },
        "id": "VNWQgwD--ksM",
        "outputId": "a0cf7188-164d-476e-ddad-adb95e3f48ae"
      },
      "outputs": [
        {
          "name": "stdout",
          "output_type": "stream",
          "text": [
            "Train R2 Score: 0.7602\n",
            "Test R2 Score: 0.7941\n"
          ]
        }
      ],
      "source": [
        "# Buat dan latih model regresi linear\n",
        "model = LinearRegression()\n",
        "model.fit(X_train_scaled, y_train)\n",
        "\n",
        "# Evaluasi model\n",
        "train_score = model.score(X_train_scaled, y_train)\n",
        "test_score = model.score(X_test_scaled, y_test)\n",
        "\n",
        "print(f\"Train R2 Score: {train_score:.4f}\")\n",
        "print(f\"Test R2 Score: {test_score:.4f}\")"
      ]
    },
    {
      "cell_type": "code",
      "execution_count": 12,
      "metadata": {
        "colab": {
          "base_uri": "https://localhost:8080/"
        },
        "id": "pxfAWPeI-mHA",
        "outputId": "31a5bd11-0d65-47ba-f484-6c60b0556417"
      },
      "outputs": [
        {
          "name": "stdout",
          "output_type": "stream",
          "text": [
            "Model dan scaler berhasil disimpan.\n"
          ]
        }
      ],
      "source": [
        "# Simpan model dan scaler\n",
        "with open('insurance_model.pkl', 'wb') as model_file:\n",
        "    pickle.dump(model, model_file)\n",
        "\n",
        "with open('scaler.pkl', 'wb') as scaler_file:\n",
        "    pickle.dump(scaler, scaler_file)\n",
        "\n",
        "print(\"Model dan scaler berhasil disimpan.\")"
      ]
    },
    {
      "cell_type": "code",
      "execution_count": 13,
      "metadata": {
        "colab": {
          "base_uri": "https://localhost:8080/"
        },
        "id": "mTAMfQ-I-nzr",
        "outputId": "03f689c9-9c8d-4f5d-e7eb-f2fcbe652a0d"
      },
      "outputs": [
        {
          "name": "stdout",
          "output_type": "stream",
          "text": [
            "age: 3775.3126\n",
            "sex: 3.7983\n",
            "bmi: 2022.0578\n",
            "children: 732.4790\n",
            "smoker: 9724.4864\n"
          ]
        }
      ],
      "source": [
        "# Tampilkan koefisien model\n",
        "fitur = X.columns\n",
        "koefisien = model.coef_\n",
        "\n",
        "for f, k in zip(fitur, koefisien):\n",
        "    print(f\"{f}: {k:.4f}\")"
      ]
    }
  ],
  "metadata": {
    "colab": {
      "provenance": []
    },
    "kernelspec": {
      "display_name": "Python 3",
      "name": "python3"
    },
    "language_info": {
      "name": "python"
    }
  },
  "nbformat": 4,
  "nbformat_minor": 0
}
